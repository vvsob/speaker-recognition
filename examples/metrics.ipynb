{
 "cells": [
  {
   "cell_type": "code",
   "execution_count": 1,
   "id": "0b0be603-027c-4ec0-b1d8-5288a81648b6",
   "metadata": {},
   "outputs": [],
   "source": [
    "import torch"
   ]
  },
  {
   "cell_type": "code",
   "execution_count": 2,
   "id": "f420b804-03fe-4627-892f-320d7f8e7f1b",
   "metadata": {},
   "outputs": [],
   "source": [
    "def calc_eer_for_binary_classification(targets_scores: torch.Tensor, imposter_scores: torch.Tensor, iters: int = 100) -> float:\n",
    "    \"\"\"\n",
    "    Computes the Equal Error Rate (EER) for a binary classification system.\n",
    "\n",
    "    The EER is the point where the False Acceptance Rate (FAR) and the False Rejection Rate (FRR) are equal.\n",
    "\n",
    "    :param targets_scores: torch.Tensor, scores assigned to genuine (target) samples.\n",
    "    :param imposter_scores: torch.Tensor, scores assigned to imposter samples.\n",
    "    :param iters: int, number of threshold iterations to evaluate EER.\n",
    "    :return: float, the computed Equal Error Rate (EER).\n",
    "\n",
    "    Errors:\n",
    "    - Returns NaN if either targets_scores or imposter_scores is empty.\n",
    "\n",
    "    The function iterates over `iters` threshold values, computes FAR and FRR at each step,\n",
    "    and determines the threshold where these rates are closest to being equal. The EER is the\n",
    "    average of FAR and FRR at this threshold.\n",
    "    \"\"\"\n",
    "\n",
    "    if len(targets_scores) == 0 or len(imposter_scores) == 0:\n",
    "        return float('nan')\n",
    "    min_score = torch.min(targets_scores.min(), imposter_scores.min())\n",
    "    max_score = torch.max(targets_scores.max(), imposter_scores.max())\n",
    "\n",
    "    n_tars = targets_scores.numel()\n",
    "    n_imps = imposter_scores.numel()\n",
    "\n",
    "    dists = torch.linspace(min_score, max_score, iters)\n",
    "    fars = torch.zeros(iters, dtype=torch.float32)\n",
    "    frrs = torch.zeros(iters, dtype=torch.float32)\n",
    "\n",
    "    min_diff = float('inf')\n",
    "    eer = 0\n",
    "\n",
    "    for i, dist in enumerate(dists):\n",
    "        far = (imposter_scores >= dist).sum().float() / n_imps\n",
    "        frr = (targets_scores <= dist).sum().float() / n_tars\n",
    "        fars[i] = far\n",
    "        frrs[i] = frr\n",
    "\n",
    "        diff = torch.abs(far - frr)\n",
    "        if diff < min_diff:\n",
    "            min_diff = diff\n",
    "            eer = (far + frr) / 2\n",
    "\n",
    "    # return eer.item(), fars, frrs, dists\n",
    "    return eer.item()"
   ]
  },
  {
   "cell_type": "code",
   "execution_count": 3,
   "id": "a8ed483c-8819-4180-ba70-2e5eaa574ac9",
   "metadata": {},
   "outputs": [],
   "source": [
    "def calc_eer(target: torch.Tensor, predicted: torch.Tensor) -> torch.Tensor:\n",
    "    \"\"\"\n",
    "    Computes the Equal Error Rate (EER) for a multi-class classification problem using PyTorch tensors.\n",
    "\n",
    "    The function calculates EER for each class separately by treating it as a binary classification problem.\n",
    "    It then returns a tensor containing the EER for each class.\n",
    "\n",
    "    :param target: torch.Tensor, a 1D tensor (N,) containing the true class labels.\n",
    "    :param predicted: torch.Tensor, a 2D tensor (N, C), where N is the number of samples and C is the number of classes.\n",
    "                      Each row contains the predicted scores or probabilities for each class.\n",
    "    :return: torch.Tensor, a 1D tensor (C,) containing the EER for each class.\n",
    "\n",
    "    The function iterates over all classes, treating each as the positive class and the rest as negative.\n",
    "    It then computes EER using `calc_eer_for_binary_classification` and returns the EER values for each class.\n",
    "    \"\"\"\n",
    "\n",
    "    num_classes = predicted.shape[1]\n",
    "    all_indices = torch.arange(num_classes)\n",
    "    eer = torch.zeros((num_classes,))\n",
    "    for cl in range(num_classes):\n",
    "        fixed_indices = torch.where(target == cl)[0]\n",
    "        other_indices = torch.where(target != cl)[0]\n",
    "        fixed = predicted[fixed_indices, cl]\n",
    "        other = predicted[other_indices, cl]\n",
    "        eer[cl] = calc_eer_for_binary_classification(fixed, other)\n",
    "\n",
    "    # return torch.nanmean(eer).item()\n",
    "    return eer"
   ]
  },
  {
   "cell_type": "markdown",
   "id": "1a77d303-f77c-4f4f-af8c-23a2d6fad447",
   "metadata": {},
   "source": [
    "<p>Здесь должна быть довольно маленькая ошибка, потому что классы хорошо отличимы</p>"
   ]
  },
  {
   "cell_type": "code",
   "execution_count": 4,
   "id": "1719a9c9-b678-483a-9ae6-5dbe6142c9a7",
   "metadata": {},
   "outputs": [
    {
     "data": {
      "text/plain": [
       "tensor([0., 0., 0., 0.])"
      ]
     },
     "execution_count": 4,
     "metadata": {},
     "output_type": "execute_result"
    }
   ],
   "source": [
    "y = torch.Tensor([0, 1, 0, 1, 2, 3])\n",
    "y_pred = torch.Tensor([\n",
    "    [0.6, 0.1, 0.1, 0.2],\n",
    "    [0.1, 0.5, 0.2, 0.2],\n",
    "    [0.7, 0.1, 0.1, 0.1],\n",
    "    [0.1, 0.6, 0.2, 0.1],\n",
    "    [0.1, 0.1, 0.6, 0.2],\n",
    "    [0.1, 0.1, 0.1, 0.7],\n",
    "])\n",
    "calc_eer(y, y_pred)"
   ]
  },
  {
   "cell_type": "markdown",
   "id": "43b3f109-c3a8-44a7-b3ea-c67c40f930cc",
   "metadata": {},
   "source": [
    "<p>Здесь должна быть довольно большая ошибка, потому что классы плохо отличимы</p>"
   ]
  },
  {
   "cell_type": "code",
   "execution_count": 5,
   "id": "0f40580b-c930-44ff-82bd-58bcd8a645d3",
   "metadata": {},
   "outputs": [
    {
     "data": {
      "text/plain": [
       "tensor([1., 1., 1., 1.])"
      ]
     },
     "execution_count": 5,
     "metadata": {},
     "output_type": "execute_result"
    }
   ],
   "source": [
    "y = torch.Tensor([0, 1, 0, 1, 2, 3])\n",
    "y_pred = torch.Tensor([\n",
    "    [0.25, 0.25, 0.25, 0.25],\n",
    "    [0.25, 0.25, 0.25, 0.25],\n",
    "    [0.25, 0.25, 0.25, 0.25],\n",
    "    [0.25, 0.25, 0.25, 0.25],\n",
    "    [0.25, 0.25, 0.25, 0.25],\n",
    "    [0.25, 0.25, 0.25, 0.25],\n",
    "])\n",
    "calc_eer(y, y_pred)"
   ]
  },
  {
   "cell_type": "markdown",
   "id": "00bf3cb6-464e-4648-9f06-d38871b9bfc2",
   "metadata": {},
   "source": [
    "<p>И снова большая ошибка</p>"
   ]
  },
  {
   "cell_type": "code",
   "execution_count": 7,
   "id": "7ef5266f-c761-405f-89fc-4f5e467a4ab0",
   "metadata": {},
   "outputs": [
    {
     "name": "stdout",
     "output_type": "stream",
     "text": [
      "tensor([[0.3462, 0.1987, 0.2687, 0.1864],\n",
      "        [0.3216, 0.1729, 0.2477, 0.2579],\n",
      "        [0.3066, 0.2652, 0.2560, 0.1722],\n",
      "        [0.2309, 0.3243, 0.1746, 0.2702],\n",
      "        [0.2750, 0.2570, 0.2410, 0.2270],\n",
      "        [0.3142, 0.3290, 0.1721, 0.1847]])\n"
     ]
    },
    {
     "data": {
      "text/plain": [
       "tensor([0.5000, 0.5000,    nan, 0.5000])"
      ]
     },
     "execution_count": 7,
     "metadata": {},
     "output_type": "execute_result"
    }
   ],
   "source": [
    "y = torch.Tensor([0, 1, 0, 1, 3, 3])\n",
    "y_pred = torch.nn.functional.softmax(torch.rand(y.shape[0], torch.max(y).int().item() + 1), dim=1)\n",
    "print(y_pred)\n",
    "calc_eer(y, y_pred)"
   ]
  }
 ],
 "metadata": {
  "kernelspec": {
   "display_name": "Python 3 (ipykernel)",
   "language": "python",
   "name": "python3"
  },
  "language_info": {
   "codemirror_mode": {
    "name": "ipython",
    "version": 3
   },
   "file_extension": ".py",
   "mimetype": "text/x-python",
   "name": "python",
   "nbconvert_exporter": "python",
   "pygments_lexer": "ipython3",
   "version": "3.13.1"
  }
 },
 "nbformat": 4,
 "nbformat_minor": 5
}
